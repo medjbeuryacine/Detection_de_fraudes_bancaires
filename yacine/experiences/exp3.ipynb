{
 "cells": [
  {
   "cell_type": "markdown",
   "metadata": {},
   "source": [
    "# Cette experience avec smote \"minority\" et avec le ratio "
   ]
  },
  {
   "cell_type": "code",
   "execution_count": 15,
   "metadata": {},
   "outputs": [],
   "source": [
    "import pandas as pd\n",
    "import numpy as np\n",
    "import matplotlib.pyplot as plt\n",
    "from sklearn.preprocessing import FunctionTransformer"
   ]
  },
  {
   "cell_type": "code",
   "execution_count": 16,
   "metadata": {},
   "outputs": [
    {
     "data": {
      "text/html": [
       "<div>\n",
       "<style scoped>\n",
       "    .dataframe tbody tr th:only-of-type {\n",
       "        vertical-align: middle;\n",
       "    }\n",
       "\n",
       "    .dataframe tbody tr th {\n",
       "        vertical-align: top;\n",
       "    }\n",
       "\n",
       "    .dataframe thead th {\n",
       "        text-align: right;\n",
       "    }\n",
       "</style>\n",
       "<table border=\"1\" class=\"dataframe\">\n",
       "  <thead>\n",
       "    <tr style=\"text-align: right;\">\n",
       "      <th></th>\n",
       "      <th>transactionId</th>\n",
       "      <th>step</th>\n",
       "      <th>type</th>\n",
       "      <th>amount</th>\n",
       "      <th>nameOrig</th>\n",
       "      <th>oldbalanceOrg</th>\n",
       "      <th>newbalanceOrig</th>\n",
       "      <th>nameDest</th>\n",
       "      <th>oldbalanceDest</th>\n",
       "      <th>newbalanceDest</th>\n",
       "      <th>isFraud</th>\n",
       "    </tr>\n",
       "  </thead>\n",
       "  <tbody>\n",
       "    <tr>\n",
       "      <th>0</th>\n",
       "      <td>103822</td>\n",
       "      <td>10</td>\n",
       "      <td>CASH_OUT</td>\n",
       "      <td>56957.7</td>\n",
       "      <td>C847783725</td>\n",
       "      <td>5090.0</td>\n",
       "      <td>0.00</td>\n",
       "      <td>C1980189656</td>\n",
       "      <td>715016.0</td>\n",
       "      <td>1619320.0</td>\n",
       "      <td>0</td>\n",
       "    </tr>\n",
       "    <tr>\n",
       "      <th>1</th>\n",
       "      <td>218494</td>\n",
       "      <td>13</td>\n",
       "      <td>CASH_IN</td>\n",
       "      <td>88956.4</td>\n",
       "      <td>C1602372431</td>\n",
       "      <td>25836700.0</td>\n",
       "      <td>25925600.00</td>\n",
       "      <td>C1790096045</td>\n",
       "      <td>106039.0</td>\n",
       "      <td>17082.8</td>\n",
       "      <td>0</td>\n",
       "    </tr>\n",
       "    <tr>\n",
       "      <th>2</th>\n",
       "      <td>31215</td>\n",
       "      <td>8</td>\n",
       "      <td>CASH_IN</td>\n",
       "      <td>106888.0</td>\n",
       "      <td>C377554582</td>\n",
       "      <td>7640700.0</td>\n",
       "      <td>7747590.00</td>\n",
       "      <td>C796028148</td>\n",
       "      <td>642962.0</td>\n",
       "      <td>536074.0</td>\n",
       "      <td>0</td>\n",
       "    </tr>\n",
       "    <tr>\n",
       "      <th>3</th>\n",
       "      <td>634387</td>\n",
       "      <td>35</td>\n",
       "      <td>PAYMENT</td>\n",
       "      <td>10239.3</td>\n",
       "      <td>C826339167</td>\n",
       "      <td>12880.4</td>\n",
       "      <td>2641.17</td>\n",
       "      <td>M635490610</td>\n",
       "      <td>0.0</td>\n",
       "      <td>0.0</td>\n",
       "      <td>0</td>\n",
       "    </tr>\n",
       "    <tr>\n",
       "      <th>4</th>\n",
       "      <td>318808</td>\n",
       "      <td>16</td>\n",
       "      <td>PAYMENT</td>\n",
       "      <td>15767.4</td>\n",
       "      <td>C1112957158</td>\n",
       "      <td>107767.0</td>\n",
       "      <td>91999.60</td>\n",
       "      <td>M313416684</td>\n",
       "      <td>0.0</td>\n",
       "      <td>0.0</td>\n",
       "      <td>0</td>\n",
       "    </tr>\n",
       "  </tbody>\n",
       "</table>\n",
       "</div>"
      ],
      "text/plain": [
       "   transactionId  step      type    amount     nameOrig  oldbalanceOrg  \\\n",
       "0         103822    10  CASH_OUT   56957.7   C847783725         5090.0   \n",
       "1         218494    13   CASH_IN   88956.4  C1602372431     25836700.0   \n",
       "2          31215     8   CASH_IN  106888.0   C377554582      7640700.0   \n",
       "3         634387    35   PAYMENT   10239.3   C826339167        12880.4   \n",
       "4         318808    16   PAYMENT   15767.4  C1112957158       107767.0   \n",
       "\n",
       "   newbalanceOrig     nameDest  oldbalanceDest  newbalanceDest  isFraud  \n",
       "0            0.00  C1980189656        715016.0       1619320.0        0  \n",
       "1     25925600.00  C1790096045        106039.0         17082.8        0  \n",
       "2      7747590.00   C796028148        642962.0        536074.0        0  \n",
       "3         2641.17   M635490610             0.0             0.0        0  \n",
       "4        91999.60   M313416684             0.0             0.0        0  "
      ]
     },
     "execution_count": 16,
     "metadata": {},
     "output_type": "execute_result"
    }
   ],
   "source": [
    "data = pd.read_csv(\"train.csv\", sep=\";\")\n",
    "data.head()"
   ]
  },
  {
   "cell_type": "markdown",
   "metadata": {},
   "source": [
    "# feature engineering"
   ]
  },
  {
   "cell_type": "code",
   "execution_count": 17,
   "metadata": {},
   "outputs": [],
   "source": [
    "def montant(df):\n",
    "    df[\"transaction_amount\"] = abs((df[\"newbalanceDest\"] - df[\"oldbalanceDest\"]) - (df[\"newbalanceOrig\"] - df[\"oldbalanceOrg\"]))\n",
    "    return df[[\"transaction_amount\"]]\n",
    "\n",
    "montants = FunctionTransformer(montant,validate=False)"
   ]
  },
  {
   "cell_type": "markdown",
   "metadata": {},
   "source": [
    "# fonction drop columns"
   ]
  },
  {
   "cell_type": "code",
   "execution_count": 18,
   "metadata": {},
   "outputs": [],
   "source": [
    "def drop_colonne(df):\n",
    "    colonne_drop = [\"transactionId\",'nameOrig','nameDest','oldbalanceDest', 'newbalanceDest','oldbalanceOrg','newbalanceOrig']\n",
    "    colonne_drop = [col for col in colonne_drop if col in df.columns]\n",
    "    df =  df.drop(colonne_drop, axis=1)\n",
    "    return df\n",
    "\n",
    "drop_colunms = FunctionTransformer(drop_colonne, validate=False) # ma fonction de supprimer "
   ]
  },
  {
   "cell_type": "code",
   "execution_count": 19,
   "metadata": {},
   "outputs": [],
   "source": [
    "from sklearn.impute import SimpleImputer\n",
    "simply = SimpleImputer(strategy=\"most_frequent\")\n",
    "\n",
    "def drop_nan_numerique(df, plan):\n",
    "    for col in df.columns:\n",
    "        if df[col].isna().sum() > 0:\n",
    "            if plan == \"mean\" and df[col].dtypes in [float, int]:\n",
    "                df[col].fillna(np.mean(df[col]), inplace=True)\n",
    "            elif plan == \"median\" and df[col].dtypes in [float, int]:\n",
    "                df[col].fillna(df[col].median(), inplace=True)\n",
    "            elif plan == \"drop\":\n",
    "                df.dropna(axis=0, inplace=True)\n",
    "                 \n",
    "    return df\n",
    "\n",
    "\n",
    "def drop_nan_categorique(df):\n",
    "    for col in df.columns:\n",
    "        if df[col].dtypes == object:\n",
    "            df[col] = simply.fit_transform(df[[col]]).ravel()\n",
    "    return df\n",
    "\n",
    "# plan  : [\"mean\", \"median\" , \"drop\"]\n",
    "plans = {\n",
    "    'numeric': ['mean',\"median\" , \"drop\"],            \n",
    "    'categorical': 'most_frequent'  \n",
    "}\n",
    "# 0 : mean\n",
    "# 1 : medien\n",
    "# 2 : drop\n",
    "\n",
    "def imputer_transformer(df):\n",
    "    df = drop_nan_numerique(df, plans['numeric'][1])\n",
    "    df = drop_nan_categorique(df)\n",
    "\n",
    "    return df"
   ]
  },
  {
   "cell_type": "code",
   "execution_count": 20,
   "metadata": {},
   "outputs": [],
   "source": [
    "nan_transformer = FunctionTransformer(imputer_transformer, validate=False)"
   ]
  },
  {
   "cell_type": "markdown",
   "metadata": {},
   "source": [
    "# Encoder "
   ]
  },
  {
   "cell_type": "code",
   "execution_count": 21,
   "metadata": {},
   "outputs": [],
   "source": [
    "from sklearn.preprocessing import OneHotEncoder\n",
    "encoder = OneHotEncoder(handle_unknown=\"ignore\") # encoder les categorical"
   ]
  },
  {
   "cell_type": "markdown",
   "metadata": {},
   "source": [
    "# normaliser les données "
   ]
  },
  {
   "cell_type": "code",
   "execution_count": 22,
   "metadata": {},
   "outputs": [],
   "source": [
    "from sklearn.preprocessing import StandardScaler\n",
    "scaler = StandardScaler(with_mean=False) # normaliser les données "
   ]
  },
  {
   "cell_type": "markdown",
   "metadata": {},
   "source": [
    "# equilibrer les classe"
   ]
  },
  {
   "cell_type": "code",
   "execution_count": 23,
   "metadata": {},
   "outputs": [],
   "source": [
    "from imblearn.over_sampling import SMOTE\n",
    "samply = SMOTE(sampling_strategy=\"minority\",random_state=0) "
   ]
  },
  {
   "cell_type": "markdown",
   "metadata": {},
   "source": [
    "# les models choisi "
   ]
  },
  {
   "cell_type": "code",
   "execution_count": 24,
   "metadata": {},
   "outputs": [],
   "source": [
    "from sklearn.ensemble import RandomForestClassifier\n",
    "from sklearn.svm import SVC"
   ]
  },
  {
   "cell_type": "code",
   "execution_count": 25,
   "metadata": {},
   "outputs": [],
   "source": [
    "from imblearn.pipeline import Pipeline as pi\n",
    "from sklearn.pipeline import make_pipeline \n",
    "from sklearn.model_selection import learning_curve, train_test_split\n",
    "from sklearn.metrics import classification_report, confusion_matrix"
   ]
  },
  {
   "cell_type": "code",
   "execution_count": 26,
   "metadata": {},
   "outputs": [],
   "source": [
    "rf = RandomForestClassifier(random_state=0)\n",
    "svm = SVC(random_state=0)"
   ]
  },
  {
   "cell_type": "code",
   "execution_count": 27,
   "metadata": {},
   "outputs": [],
   "source": [
    "liste_models = {\"RandomForestClassifier\":rf,\n",
    "                \"SVC\":svm}"
   ]
  },
  {
   "cell_type": "markdown",
   "metadata": {},
   "source": [
    "# definir la target et les features"
   ]
  },
  {
   "cell_type": "code",
   "execution_count": 28,
   "metadata": {},
   "outputs": [
    {
     "data": {
      "text/plain": [
       "((790438, 10), (197610, 10), (790438,), (197610,))"
      ]
     },
     "execution_count": 28,
     "metadata": {},
     "output_type": "execute_result"
    }
   ],
   "source": [
    "y = data[\"isFraud\"]\n",
    "X = data.drop(\"isFraud\", axis=1)\n",
    "\n",
    "X_train, X_test, y_train, y_test = train_test_split(X, y, random_state=0, test_size=0.2)\n",
    "X_train.shape, X_test.shape, y_train.shape, y_test.shape"
   ]
  },
  {
   "cell_type": "code",
   "execution_count": 29,
   "metadata": {},
   "outputs": [],
   "source": [
    "def pipeline_avec_smote(model):\n",
    "    return pi([(\"montants\", montants),\n",
    "                                  (\"drop_colunms\",drop_colunms),\n",
    "                                  (\"nan_transformer\",nan_transformer),\n",
    "                                  (\"encoder\",encoder),\n",
    "                                  (\"scaler\",scaler),\n",
    "                                  (\"smote\",samply),\n",
    "                                  (\"model\",model)])\n",
    "\n",
    "\n",
    "def train_model(model):\n",
    "    \n",
    "    final_pipeline = pipeline_avec_smote(model)\n",
    "        \n",
    "    final_pipeline.fit(X_train, y_train)\n",
    "    y_pred = final_pipeline.predict(X_test)\n",
    "    print(model.__class__.__name__)\n",
    "    print(confusion_matrix(y_test, y_pred))\n",
    "    print(classification_report(y_test, y_pred))"
   ]
  },
  {
   "cell_type": "code",
   "execution_count": null,
   "metadata": {},
   "outputs": [
    {
     "name": "stderr",
     "output_type": "stream",
     "text": [
      "  0%|          | 0/2 [00:00<?, ?it/s]"
     ]
    },
    {
     "name": "stdout",
     "output_type": "stream",
     "text": [
      "RandomForestClassifier\n"
     ]
    },
    {
     "name": "stderr",
     "output_type": "stream",
     "text": [
      " 50%|█████     | 1/2 [7:05:29<7:05:29, 25529.79s/it]"
     ]
    },
    {
     "name": "stdout",
     "output_type": "stream",
     "text": [
      "RandomForestClassifier\n",
      "[[195792    187]\n",
      " [  1589     42]]\n",
      "              precision    recall  f1-score   support\n",
      "\n",
      "           0       0.99      1.00      1.00    195979\n",
      "           1       0.18      0.03      0.05      1631\n",
      "\n",
      "    accuracy                           0.99    197610\n",
      "   macro avg       0.59      0.51      0.52    197610\n",
      "weighted avg       0.99      0.99      0.99    197610\n",
      "\n",
      "SVC\n"
     ]
    }
   ],
   "source": [
    "from tqdm import tqdm\n",
    "for name, model in tqdm(liste_models.items()):\n",
    "    print(name)\n",
    "    train_model(model)"
   ]
  },
  {
   "cell_type": "markdown",
   "metadata": {},
   "source": [
    "# tracer la courbe d'aprentisage "
   ]
  },
  {
   "cell_type": "code",
   "execution_count": null,
   "metadata": {},
   "outputs": [],
   "source": [
    "N, train_score, val_score = learning_curve(# model choisi ,\n",
    "     X_train, y_train, cv=4, train_sizes=np.linspace(0.1,1,10))"
   ]
  },
  {
   "cell_type": "code",
   "execution_count": null,
   "metadata": {},
   "outputs": [],
   "source": [
    "plt.figure(figsize=(18,10))\n",
    "plt.plot(N, train_score.mean(axis=1), label=\"train score\")\n",
    "plt.plot(N, val_score.mean(axis=1), label=\"val score\")\n",
    "plt.legend()"
   ]
  }
 ],
 "metadata": {
  "kernelspec": {
   "display_name": ".venv",
   "language": "python",
   "name": "python3"
  },
  "language_info": {
   "codemirror_mode": {
    "name": "ipython",
    "version": 3
   },
   "file_extension": ".py",
   "mimetype": "text/x-python",
   "name": "python",
   "nbconvert_exporter": "python",
   "pygments_lexer": "ipython3",
   "version": "3.13.1"
  }
 },
 "nbformat": 4,
 "nbformat_minor": 2
}

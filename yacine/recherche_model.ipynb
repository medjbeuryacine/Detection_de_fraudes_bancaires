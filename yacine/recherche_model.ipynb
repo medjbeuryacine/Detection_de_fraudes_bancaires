{
 "cells": [
  {
   "cell_type": "code",
   "execution_count": 2,
   "metadata": {},
   "outputs": [],
   "source": [
    "import pandas as pd\n",
    "import matplotlib.pyplot as plt\n",
    "from sklearn.preprocessing import LabelEncoder, MinMaxScaler, OneHotEncoder\n",
    "from sklearn.preprocessing import FunctionTransformer\n",
    "from sklearn.compose import ColumnTransformer\n",
    "import numpy as np"
   ]
  },
  {
   "cell_type": "code",
   "execution_count": 75,
   "metadata": {},
   "outputs": [
    {
     "data": {
      "text/html": [
       "<div>\n",
       "<style scoped>\n",
       "    .dataframe tbody tr th:only-of-type {\n",
       "        vertical-align: middle;\n",
       "    }\n",
       "\n",
       "    .dataframe tbody tr th {\n",
       "        vertical-align: top;\n",
       "    }\n",
       "\n",
       "    .dataframe thead th {\n",
       "        text-align: right;\n",
       "    }\n",
       "</style>\n",
       "<table border=\"1\" class=\"dataframe\">\n",
       "  <thead>\n",
       "    <tr style=\"text-align: right;\">\n",
       "      <th></th>\n",
       "      <th>transactionId</th>\n",
       "      <th>step</th>\n",
       "      <th>type</th>\n",
       "      <th>amount</th>\n",
       "      <th>nameOrig</th>\n",
       "      <th>oldbalanceOrg</th>\n",
       "      <th>newbalanceOrig</th>\n",
       "      <th>nameDest</th>\n",
       "      <th>oldbalanceDest</th>\n",
       "      <th>newbalanceDest</th>\n",
       "      <th>isFraud</th>\n",
       "    </tr>\n",
       "  </thead>\n",
       "  <tbody>\n",
       "    <tr>\n",
       "      <th>0</th>\n",
       "      <td>103822</td>\n",
       "      <td>10</td>\n",
       "      <td>CASH_OUT</td>\n",
       "      <td>56957.7</td>\n",
       "      <td>C847783725</td>\n",
       "      <td>5090.0</td>\n",
       "      <td>0.00</td>\n",
       "      <td>C1980189656</td>\n",
       "      <td>715016.0</td>\n",
       "      <td>1619320.0</td>\n",
       "      <td>0</td>\n",
       "    </tr>\n",
       "    <tr>\n",
       "      <th>1</th>\n",
       "      <td>218494</td>\n",
       "      <td>13</td>\n",
       "      <td>CASH_IN</td>\n",
       "      <td>88956.4</td>\n",
       "      <td>C1602372431</td>\n",
       "      <td>25836700.0</td>\n",
       "      <td>25925600.00</td>\n",
       "      <td>C1790096045</td>\n",
       "      <td>106039.0</td>\n",
       "      <td>17082.8</td>\n",
       "      <td>0</td>\n",
       "    </tr>\n",
       "    <tr>\n",
       "      <th>2</th>\n",
       "      <td>31215</td>\n",
       "      <td>8</td>\n",
       "      <td>CASH_IN</td>\n",
       "      <td>106888.0</td>\n",
       "      <td>C377554582</td>\n",
       "      <td>7640700.0</td>\n",
       "      <td>7747590.00</td>\n",
       "      <td>C796028148</td>\n",
       "      <td>642962.0</td>\n",
       "      <td>536074.0</td>\n",
       "      <td>0</td>\n",
       "    </tr>\n",
       "    <tr>\n",
       "      <th>3</th>\n",
       "      <td>634387</td>\n",
       "      <td>35</td>\n",
       "      <td>PAYMENT</td>\n",
       "      <td>10239.3</td>\n",
       "      <td>C826339167</td>\n",
       "      <td>12880.4</td>\n",
       "      <td>2641.17</td>\n",
       "      <td>M635490610</td>\n",
       "      <td>0.0</td>\n",
       "      <td>0.0</td>\n",
       "      <td>0</td>\n",
       "    </tr>\n",
       "    <tr>\n",
       "      <th>4</th>\n",
       "      <td>318808</td>\n",
       "      <td>16</td>\n",
       "      <td>PAYMENT</td>\n",
       "      <td>15767.4</td>\n",
       "      <td>C1112957158</td>\n",
       "      <td>107767.0</td>\n",
       "      <td>91999.60</td>\n",
       "      <td>M313416684</td>\n",
       "      <td>0.0</td>\n",
       "      <td>0.0</td>\n",
       "      <td>0</td>\n",
       "    </tr>\n",
       "  </tbody>\n",
       "</table>\n",
       "</div>"
      ],
      "text/plain": [
       "   transactionId  step      type    amount     nameOrig  oldbalanceOrg  \\\n",
       "0         103822    10  CASH_OUT   56957.7   C847783725         5090.0   \n",
       "1         218494    13   CASH_IN   88956.4  C1602372431     25836700.0   \n",
       "2          31215     8   CASH_IN  106888.0   C377554582      7640700.0   \n",
       "3         634387    35   PAYMENT   10239.3   C826339167        12880.4   \n",
       "4         318808    16   PAYMENT   15767.4  C1112957158       107767.0   \n",
       "\n",
       "   newbalanceOrig     nameDest  oldbalanceDest  newbalanceDest  isFraud  \n",
       "0            0.00  C1980189656        715016.0       1619320.0        0  \n",
       "1     25925600.00  C1790096045        106039.0         17082.8        0  \n",
       "2      7747590.00   C796028148        642962.0        536074.0        0  \n",
       "3         2641.17   M635490610             0.0             0.0        0  \n",
       "4        91999.60   M313416684             0.0             0.0        0  "
      ]
     },
     "execution_count": 75,
     "metadata": {},
     "output_type": "execute_result"
    }
   ],
   "source": [
    "data = pd.read_csv('train.csv', sep=';')\n",
    "data.head()"
   ]
  },
  {
   "cell_type": "code",
   "execution_count": 76,
   "metadata": {},
   "outputs": [
    {
     "name": "stdout",
     "output_type": "stream",
     "text": [
      "<class 'pandas.core.frame.DataFrame'>\n",
      "RangeIndex: 988048 entries, 0 to 988047\n",
      "Data columns (total 11 columns):\n",
      " #   Column          Non-Null Count   Dtype  \n",
      "---  ------          --------------   -----  \n",
      " 0   transactionId   988048 non-null  int64  \n",
      " 1   step            988048 non-null  int64  \n",
      " 2   type            988048 non-null  object \n",
      " 3   amount          988048 non-null  float64\n",
      " 4   nameOrig        988048 non-null  object \n",
      " 5   oldbalanceOrg   988048 non-null  float64\n",
      " 6   newbalanceOrig  988048 non-null  float64\n",
      " 7   nameDest        988048 non-null  object \n",
      " 8   oldbalanceDest  988048 non-null  float64\n",
      " 9   newbalanceDest  988048 non-null  float64\n",
      " 10  isFraud         988048 non-null  int64  \n",
      "dtypes: float64(5), int64(3), object(3)\n",
      "memory usage: 82.9+ MB\n"
     ]
    }
   ],
   "source": [
    "data.info()"
   ]
  },
  {
   "cell_type": "code",
   "execution_count": 77,
   "metadata": {},
   "outputs": [],
   "source": [
    "def indicateur(df):\n",
    "    df[\"suspicious_flag\"] = ((df[\"type\"].isin([\"CASH_OUT\", \"TRANSFER\"])) &\n",
    "                              (df[\"oldbalanceOrg\"] > 0) &\n",
    "                                (df[\"newbalanceOrig\"] < 1) &\n",
    "                                  (df[\"newbalanceDest\"] > 0) ).astype(int)\n",
    "    \n",
    "    return df\n",
    "\n",
    "indicateurs = FunctionTransformer(indicateur,validate=False)"
   ]
  },
  {
   "cell_type": "code",
   "execution_count": 78,
   "metadata": {},
   "outputs": [],
   "source": [
    "def drop_colonne(df):\n",
    "    colonne_drop = [\"transactionId\",\"step\",'nameOrig','nameDest','oldbalanceDest','newbalanceOrig']\n",
    "    colonne_drop = [col for col in colonne_drop if col in df.columns]\n",
    "    df =  df.drop(columns= colonne_drop, axis=1, inplace=True)\n",
    "    return df\n",
    "drop_colunms = FunctionTransformer(drop_colonne, validate=False)"
   ]
  },
  {
   "cell_type": "code",
   "execution_count": 79,
   "metadata": {},
   "outputs": [],
   "source": [
    "def transformer(df):\n",
    "    numerical_cols = df.select_dtypes(include=np.number).columns\n",
    "    categorical_cols = df.select_dtypes(include=object).columns\n",
    "\n",
    "    processeur = ColumnTransformer([\n",
    "        (\"numerical\", MinMaxScaler(), numerical_cols),\n",
    "        (\"categorical\", OneHotEncoder(sparse_output=False), categorical_cols)\n",
    "    ])\n",
    "\n",
    "    df_transformer = processeur.fit_transform(df)\n",
    "\n",
    "    return df_transformer\n",
    "transformers = FunctionTransformer(transformer, validate=False)"
   ]
  },
  {
   "cell_type": "code",
   "execution_count": 80,
   "metadata": {},
   "outputs": [],
   "source": [
    "from sklearn.pipeline import Pipeline\n",
    "from sklearn.ensemble import RandomForestClassifier\n",
    "model = RandomForestClassifier(random_state=0)"
   ]
  },
  {
   "cell_type": "code",
   "execution_count": 81,
   "metadata": {},
   "outputs": [],
   "source": [
    "X = data.drop(\"isFraud\", axis=1)\n",
    "y = data[\"isFraud\"]  "
   ]
  },
  {
   "cell_type": "code",
   "execution_count": 82,
   "metadata": {},
   "outputs": [
    {
     "data": {
      "text/plain": [
       "isFraud\n",
       "0    979999\n",
       "1      8049\n",
       "Name: count, dtype: int64"
      ]
     },
     "execution_count": 82,
     "metadata": {},
     "output_type": "execute_result"
    }
   ],
   "source": [
    "y.value_counts()"
   ]
  },
  {
   "cell_type": "code",
   "execution_count": 83,
   "metadata": {},
   "outputs": [],
   "source": [
    "from sklearn.model_selection import train_test_split\n",
    "X_train, X_test, y_train, y_test = train_test_split(X, y, random_state=0, test_size=0.2)"
   ]
  },
  {
   "cell_type": "code",
   "execution_count": 84,
   "metadata": {},
   "outputs": [],
   "source": [
    "from imblearn.over_sampling import SMOTE\n",
    "from imblearn.under_sampling import RandomUnderSampler\n",
    "from imblearn.pipeline import Pipeline as pi"
   ]
  },
  {
   "cell_type": "code",
   "execution_count": 93,
   "metadata": {},
   "outputs": [],
   "source": [
    "model_final = Pipeline([\n",
    "    (\"indicateur\", indicateurs),\n",
    "   (\"drop_colonnes\",drop_colunms),\n",
    "   (\"transformers\",transformers),\n",
    "   (\"model\", model)\n",
    "])\n"
   ]
  },
  {
   "cell_type": "code",
   "execution_count": null,
   "metadata": {},
   "outputs": [],
   "source": [
    "model_final.fit(X)"
   ]
  },
  {
   "cell_type": "code",
   "execution_count": 157,
   "metadata": {},
   "outputs": [],
   "source": [
    "df = pd.read_csv(\"C:\\\\Users\\\\yacine.medjbeur\\\\Downloads\\\\data_30000.csv\", sep=\";\")"
   ]
  },
  {
   "cell_type": "code",
   "execution_count": 158,
   "metadata": {},
   "outputs": [
    {
     "data": {
      "text/html": [
       "<div>\n",
       "<style scoped>\n",
       "    .dataframe tbody tr th:only-of-type {\n",
       "        vertical-align: middle;\n",
       "    }\n",
       "\n",
       "    .dataframe tbody tr th {\n",
       "        vertical-align: top;\n",
       "    }\n",
       "\n",
       "    .dataframe thead th {\n",
       "        text-align: right;\n",
       "    }\n",
       "</style>\n",
       "<table border=\"1\" class=\"dataframe\">\n",
       "  <thead>\n",
       "    <tr style=\"text-align: right;\">\n",
       "      <th></th>\n",
       "      <th>step</th>\n",
       "      <th>type</th>\n",
       "      <th>amount</th>\n",
       "      <th>nameOrig</th>\n",
       "      <th>oldbalanceOrg</th>\n",
       "      <th>newbalanceOrig</th>\n",
       "      <th>nameDest</th>\n",
       "      <th>oldbalanceDest</th>\n",
       "      <th>newbalanceDest</th>\n",
       "      <th>isFraud</th>\n",
       "      <th>transactionId</th>\n",
       "    </tr>\n",
       "  </thead>\n",
       "  <tbody>\n",
       "    <tr>\n",
       "      <th>0</th>\n",
       "      <td>403</td>\n",
       "      <td>PAYMENT</td>\n",
       "      <td>4478.36</td>\n",
       "      <td>C839471019</td>\n",
       "      <td>0.00</td>\n",
       "      <td>0.00</td>\n",
       "      <td>M1816671010</td>\n",
       "      <td>0.00</td>\n",
       "      <td>0.00</td>\n",
       "      <td>0</td>\n",
       "      <td>5904099</td>\n",
       "    </tr>\n",
       "    <tr>\n",
       "      <th>1</th>\n",
       "      <td>234</td>\n",
       "      <td>CASH_IN</td>\n",
       "      <td>376200.73</td>\n",
       "      <td>C1170853173</td>\n",
       "      <td>3809732.32</td>\n",
       "      <td>4185933.05</td>\n",
       "      <td>C398294488</td>\n",
       "      <td>571520.05</td>\n",
       "      <td>195319.32</td>\n",
       "      <td>0</td>\n",
       "      <td>3053641</td>\n",
       "    </tr>\n",
       "    <tr>\n",
       "      <th>2</th>\n",
       "      <td>282</td>\n",
       "      <td>PAYMENT</td>\n",
       "      <td>9855.71</td>\n",
       "      <td>C199562839</td>\n",
       "      <td>119286.00</td>\n",
       "      <td>109430.29</td>\n",
       "      <td>M841433582</td>\n",
       "      <td>0.00</td>\n",
       "      <td>0.00</td>\n",
       "      <td>0</td>\n",
       "      <td>3842444</td>\n",
       "    </tr>\n",
       "    <tr>\n",
       "      <th>3</th>\n",
       "      <td>328</td>\n",
       "      <td>CASH_IN</td>\n",
       "      <td>265209.16</td>\n",
       "      <td>C1887469617</td>\n",
       "      <td>123554.00</td>\n",
       "      <td>388763.16</td>\n",
       "      <td>C283241429</td>\n",
       "      <td>1327142.29</td>\n",
       "      <td>1061933.13</td>\n",
       "      <td>0</td>\n",
       "      <td>4596599</td>\n",
       "    </tr>\n",
       "    <tr>\n",
       "      <th>4</th>\n",
       "      <td>238</td>\n",
       "      <td>PAYMENT</td>\n",
       "      <td>15447.88</td>\n",
       "      <td>C76290743</td>\n",
       "      <td>7804.00</td>\n",
       "      <td>0.00</td>\n",
       "      <td>M685801254</td>\n",
       "      <td>0.00</td>\n",
       "      <td>0.00</td>\n",
       "      <td>0</td>\n",
       "      <td>3170119</td>\n",
       "    </tr>\n",
       "  </tbody>\n",
       "</table>\n",
       "</div>"
      ],
      "text/plain": [
       "   step     type     amount     nameOrig  oldbalanceOrg  newbalanceOrig  \\\n",
       "0   403  PAYMENT    4478.36   C839471019           0.00            0.00   \n",
       "1   234  CASH_IN  376200.73  C1170853173     3809732.32      4185933.05   \n",
       "2   282  PAYMENT    9855.71   C199562839      119286.00       109430.29   \n",
       "3   328  CASH_IN  265209.16  C1887469617      123554.00       388763.16   \n",
       "4   238  PAYMENT   15447.88    C76290743        7804.00            0.00   \n",
       "\n",
       "      nameDest  oldbalanceDest  newbalanceDest  isFraud  transactionId  \n",
       "0  M1816671010            0.00            0.00        0        5904099  \n",
       "1   C398294488       571520.05       195319.32        0        3053641  \n",
       "2   M841433582            0.00            0.00        0        3842444  \n",
       "3   C283241429      1327142.29      1061933.13        0        4596599  \n",
       "4   M685801254            0.00            0.00        0        3170119  "
      ]
     },
     "execution_count": 158,
     "metadata": {},
     "output_type": "execute_result"
    }
   ],
   "source": [
    "df.head()"
   ]
  },
  {
   "cell_type": "code",
   "execution_count": 159,
   "metadata": {},
   "outputs": [
    {
     "data": {
      "text/plain": [
       "isFraud\n",
       "0    29969\n",
       "1       31\n",
       "Name: count, dtype: int64"
      ]
     },
     "execution_count": 159,
     "metadata": {},
     "output_type": "execute_result"
    }
   ],
   "source": [
    "df[\"isFraud\"].value_counts()"
   ]
  },
  {
   "cell_type": "code",
   "execution_count": 160,
   "metadata": {},
   "outputs": [],
   "source": [
    "y = df[\"isFraud\"]\n",
    "X = df.drop(\"isFraud\", axis=1)"
   ]
  },
  {
   "cell_type": "code",
   "execution_count": 162,
   "metadata": {},
   "outputs": [],
   "source": [
    "from imblearn.over_sampling import RandomOverSampler\n",
    "\n",
    "over = RandomOverSampler(sampling_strategy={1:29969})\n",
    "X_res, y_res = over.fit_resample(X, y)"
   ]
  },
  {
   "cell_type": "code",
   "execution_count": 164,
   "metadata": {},
   "outputs": [],
   "source": [
    "data = pd.concat([X_res, y_res], axis=1)"
   ]
  },
  {
   "cell_type": "code",
   "execution_count": 166,
   "metadata": {},
   "outputs": [],
   "source": [
    "data.to_csv(\"data_modifier_par_smote.csv\", sep=';', index=False)"
   ]
  },
  {
   "cell_type": "code",
   "execution_count": 5,
   "metadata": {},
   "outputs": [],
   "source": [
    "data  = pd.read_csv(\"IA\\\\test.csv\", sep=';')"
   ]
  },
  {
   "cell_type": "code",
   "execution_count": 7,
   "metadata": {},
   "outputs": [
    {
     "data": {
      "text/plain": [
       "isFraud\n",
       "0    20001\n",
       "1      164\n",
       "Name: count, dtype: int64"
      ]
     },
     "execution_count": 7,
     "metadata": {},
     "output_type": "execute_result"
    }
   ],
   "source": [
    "data[\"isFraud\"].value_counts()"
   ]
  },
  {
   "cell_type": "code",
   "execution_count": null,
   "metadata": {},
   "outputs": [],
   "source": []
  }
 ],
 "metadata": {
  "kernelspec": {
   "display_name": ".venv",
   "language": "python",
   "name": "python3"
  },
  "language_info": {
   "codemirror_mode": {
    "name": "ipython",
    "version": 3
   },
   "file_extension": ".py",
   "mimetype": "text/x-python",
   "name": "python",
   "nbconvert_exporter": "python",
   "pygments_lexer": "ipython3",
   "version": "3.13.1"
  }
 },
 "nbformat": 4,
 "nbformat_minor": 2
}
